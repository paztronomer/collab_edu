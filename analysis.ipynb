{
 "cells": [
  {
   "cell_type": "markdown",
   "metadata": {},
   "source": [
    "# Analysis"
   ]
  },
  {
   "cell_type": "code",
   "execution_count": 1,
   "metadata": {},
   "outputs": [],
   "source": [
    "import os\n",
    "import gc\n",
    "import numpy as np\n",
    "from scipy import stats\n",
    "import pandas as pd\n",
    "import matplotlib.pyplot as plt\n",
    "from mpl_toolkits.axes_grid1 import make_axes_locatable\n",
    "import seaborn as sns\n",
    "%matplotlib notebook"
   ]
  },
  {
   "cell_type": "code",
   "execution_count": 2,
   "metadata": {},
   "outputs": [
    {
     "data": {
      "text/plain": [
       "11"
      ]
     },
     "execution_count": 2,
     "metadata": {},
     "output_type": "execute_result"
    }
   ],
   "source": [
    "gc.collect()"
   ]
  },
  {
   "cell_type": "markdown",
   "metadata": {},
   "source": [
    "## Set: \"Alumnos\""
   ]
  },
  {
   "cell_type": "markdown",
   "metadata": {},
   "source": [
    "Read dataframe"
   ]
  },
  {
   "cell_type": "code",
   "execution_count": 3,
   "metadata": {},
   "outputs": [],
   "source": [
    "df_a = pd.read_csv('alumnos.csv')"
   ]
  },
  {
   "cell_type": "markdown",
   "metadata": {},
   "source": [
    "Select only those columns having relevant info"
   ]
  },
  {
   "cell_type": "code",
   "execution_count": 4,
   "metadata": {},
   "outputs": [],
   "source": [
    "aux_col = [x for x in df_a.columns if 'v' in x]"
   ]
  },
  {
   "cell_type": "markdown",
   "metadata": {},
   "source": [
    "Matrix scatter"
   ]
  },
  {
   "cell_type": "code",
   "execution_count": 5,
   "metadata": {},
   "outputs": [],
   "source": [
    "if False:\n",
    "    sns.set(style='ticks')\n",
    "    s_matrix = sns.pairplot(df_a[aux_col + ['curso']], hue='curso')\n",
    "    s_matrix.savefig('alumnos.pdf', dpi=500, format='pdf')"
   ]
  },
  {
   "cell_type": "markdown",
   "metadata": {},
   "source": [
    "### Define macro-variables"
   ]
  },
  {
   "cell_type": "markdown",
   "metadata": {},
   "source": [
    "Confianza (m1) / Adaptacion (m2) / Compromiso (m3) / Conciencia social (m4)\n",
    "\n",
    "Note some variables appears in more than in one macro-variable"
   ]
  },
  {
   "cell_type": "code",
   "execution_count": 6,
   "metadata": {},
   "outputs": [],
   "source": [
    "m1 = [13, 14, 15, 16, 17, 18, 20, 21, 22, 26, 27, 28, 29]\n",
    "m2 = [1, 10, 11, 22, 23, 25, 26]\n",
    "m3 = [2, 3, 4, 5, 6, 11, 12, 13, 18, 19, 23, 24, 25, 26, 30]\n",
    "m4 = [1, 7, 8, 9, 11, 15, 19, 22, 30]\n",
    "#\n",
    "m1 = ['v{0:02}'.format(n) for n in m1]\n",
    "m2 = ['v{0:02}'.format(n) for n in m2]\n",
    "m3 = ['v{0:02}'.format(n) for n in m3]\n",
    "m4 = ['v{0:02}'.format(n) for n in m4]"
   ]
  },
  {
   "cell_type": "code",
   "execution_count": 7,
   "metadata": {},
   "outputs": [],
   "source": [
    "equiv = {\n",
    "    'm1': 'Confianza',\n",
    "    'm2': 'Adaptacion',\n",
    "    'm3': 'Compromiso',\n",
    "    'm4': 'Conciencia Social',\n",
    "}"
   ]
  },
  {
   "cell_type": "markdown",
   "metadata": {},
   "source": [
    "Division per year"
   ]
  },
  {
   "cell_type": "code",
   "execution_count": 8,
   "metadata": {},
   "outputs": [],
   "source": [
    "y1 = df_a.loc[df_a['curso'] == 1]\n",
    "y4 = df_a.loc[df_a['curso'] == 4]\n",
    "y5 = df_a.loc[df_a['curso'] == 5]"
   ]
  },
  {
   "cell_type": "markdown",
   "metadata": {},
   "source": [
    "Define some lists to save correlation tests"
   ]
  },
  {
   "cell_type": "code",
   "execution_count": 9,
   "metadata": {},
   "outputs": [],
   "source": [
    "aux_stat, aux_pval, aux_yr, aux_mvar, aux_test = [], [], [], [], []"
   ]
  },
  {
   "cell_type": "markdown",
   "metadata": {},
   "source": [
    "Statistical tests for the macro-variables:"
   ]
  },
  {
   "cell_type": "markdown",
   "metadata": {},
   "source": [
    "# Tests for all variables at once inside each macro-variable"
   ]
  },
  {
   "cell_type": "markdown",
   "metadata": {},
   "source": [
    "## ANOVA"
   ]
  },
  {
   "cell_type": "markdown",
   "metadata": {},
   "source": [
    "The one-way ANOVA tests the null hypothesis that two or more groups have the same population mean.\n",
    "\n",
    "* The samples are independent.\n",
    "* Each sample is from a normally distributed population.\n",
    "* The population standard deviations of the groups are all equal. This property is known as homoscedasticity."
   ]
  },
  {
   "cell_type": "markdown",
   "metadata": {},
   "source": [
    "Doing the analysis for all the years"
   ]
  },
  {
   "cell_type": "code",
   "execution_count": 10,
   "metadata": {},
   "outputs": [],
   "source": [
    "m1_anova = stats.f_oneway(*[df_a[c].values for c in m1])\n",
    "m2_anova = stats.f_oneway(*[df_a[c].values for c in m2])\n",
    "m3_anova = stats.f_oneway(*[df_a[c].values for c in m3])\n",
    "m4_anova = stats.f_oneway(*[df_a[c].values for c in m4])"
   ]
  },
  {
   "cell_type": "code",
   "execution_count": 11,
   "metadata": {},
   "outputs": [],
   "source": [
    "aux_stat.append(m1_anova[0])\n",
    "aux_pval.append(m1_anova[1])\n",
    "aux_yr.append(-1)\n",
    "aux_mvar.append(equiv['m1'])\n",
    "aux_test.append('anova')"
   ]
  },
  {
   "cell_type": "code",
   "execution_count": 12,
   "metadata": {},
   "outputs": [],
   "source": [
    "aux_stat.append(m2_anova[0])\n",
    "aux_pval.append(m2_anova[1])\n",
    "aux_yr.append(-1)\n",
    "aux_mvar.append(equiv['m2'])\n",
    "aux_test.append('anova')"
   ]
  },
  {
   "cell_type": "code",
   "execution_count": 13,
   "metadata": {},
   "outputs": [],
   "source": [
    "aux_stat.append(m3_anova[0])\n",
    "aux_pval.append(m3_anova[1])\n",
    "aux_yr.append(-1)\n",
    "aux_mvar.append(equiv['m3'])\n",
    "aux_test.append('anova')"
   ]
  },
  {
   "cell_type": "code",
   "execution_count": 14,
   "metadata": {},
   "outputs": [],
   "source": [
    "aux_stat.append(m4_anova[0])\n",
    "aux_pval.append(m4_anova[1])\n",
    "aux_yr.append(-1)\n",
    "aux_mvar.append(equiv['m4'])\n",
    "aux_test.append('anova')"
   ]
  },
  {
   "cell_type": "markdown",
   "metadata": {},
   "source": [
    "For all the above ANOVA tests, the p-value allow us to reject the null hypothesis of the mean being the same for all the samples"
   ]
  },
  {
   "cell_type": "markdown",
   "metadata": {},
   "source": [
    "If we now do it year by year, lets see if that stands"
   ]
  },
  {
   "cell_type": "code",
   "execution_count": 15,
   "metadata": {},
   "outputs": [],
   "source": [
    "m1_y1_anova = stats.f_oneway(*[y1[c].values for c in m1])\n",
    "m2_y1_anova = stats.f_oneway(*[y1[c].values for c in m2])\n",
    "m3_y1_anova = stats.f_oneway(*[y1[c].values for c in m3])\n",
    "m4_y1_anova = stats.f_oneway(*[y1[c].values for c in m4])"
   ]
  },
  {
   "cell_type": "code",
   "execution_count": 16,
   "metadata": {},
   "outputs": [
    {
     "data": {
      "text/plain": [
       "(F_onewayResult(statistic=9.48273753266248, pvalue=1.8920624636844538e-17),\n",
       " F_onewayResult(statistic=9.997065855248856, pvalue=2.1634959442988116e-10),\n",
       " F_onewayResult(statistic=20.90941936006699, pvalue=6.438960742500789e-47),\n",
       " F_onewayResult(statistic=44.61676454026225, pvalue=4.8235070628214935e-56))"
      ]
     },
     "execution_count": 16,
     "metadata": {},
     "output_type": "execute_result"
    }
   ],
   "source": [
    "m1_y1_anova, m2_y1_anova, m3_y1_anova, m4_y1_anova"
   ]
  },
  {
   "cell_type": "code",
   "execution_count": 17,
   "metadata": {},
   "outputs": [],
   "source": [
    "aux_stat.append(m1_y1_anova[0])\n",
    "aux_pval.append(m1_y1_anova[1])\n",
    "aux_yr.append(1)\n",
    "aux_mvar.append(equiv['m1'])\n",
    "aux_test.append('anova')\n",
    "#\n",
    "aux_stat.append(m2_y1_anova[0])\n",
    "aux_pval.append(m2_y1_anova[1])\n",
    "aux_yr.append(1)\n",
    "aux_mvar.append(equiv['m2'])\n",
    "aux_test.append('anova')\n",
    "#\n",
    "aux_stat.append(m3_y1_anova[0])\n",
    "aux_pval.append(m3_y1_anova[1])\n",
    "aux_yr.append(1)\n",
    "aux_mvar.append(equiv['m3'])\n",
    "aux_test.append('anova')\n",
    "#\n",
    "aux_stat.append(m4_y1_anova[0])\n",
    "aux_pval.append(m4_y1_anova[1])\n",
    "aux_yr.append(1)\n",
    "aux_mvar.append(equiv['m4'])\n",
    "aux_test.append('anova')"
   ]
  },
  {
   "cell_type": "code",
   "execution_count": 18,
   "metadata": {},
   "outputs": [],
   "source": [
    "m1_y4_anova = stats.f_oneway(*[y4[c].values for c in m1])\n",
    "m2_y4_anova = stats.f_oneway(*[y4[c].values for c in m2])\n",
    "m3_y4_anova = stats.f_oneway(*[y4[c].values for c in m3])\n",
    "m4_y4_anova = stats.f_oneway(*[y4[c].values for c in m4])"
   ]
  },
  {
   "cell_type": "code",
   "execution_count": 19,
   "metadata": {},
   "outputs": [
    {
     "data": {
      "text/plain": [
       "(F_onewayResult(statistic=1.6418373680943519, pvalue=0.08766824136104183),\n",
       " F_onewayResult(statistic=2.4441205053449946, pvalue=0.03335826510182817),\n",
       " F_onewayResult(statistic=5.156325156325158, pvalue=7.236877140677416e-08),\n",
       " F_onewayResult(statistic=8.923501577287071, pvalue=6.2811902294764235e-09))"
      ]
     },
     "execution_count": 19,
     "metadata": {},
     "output_type": "execute_result"
    }
   ],
   "source": [
    "m1_y4_anova, m2_y4_anova, m3_y4_anova, m4_y4_anova"
   ]
  },
  {
   "cell_type": "code",
   "execution_count": 20,
   "metadata": {},
   "outputs": [],
   "source": [
    "aux_stat.append(m1_y4_anova[0])\n",
    "aux_pval.append(m1_y4_anova[1])\n",
    "aux_yr.append(4)\n",
    "aux_mvar.append(equiv['m1'])\n",
    "aux_test.append('anova')\n",
    "#\n",
    "aux_stat.append(m2_y4_anova[0])\n",
    "aux_pval.append(m2_y4_anova[1])\n",
    "aux_yr.append(4)\n",
    "aux_mvar.append(equiv['m2'])\n",
    "aux_test.append('anova')\n",
    "#\n",
    "aux_stat.append(m3_y4_anova[0])\n",
    "aux_pval.append(m3_y4_anova[1])\n",
    "aux_yr.append(4)\n",
    "aux_mvar.append(equiv['m3'])\n",
    "aux_test.append('anova')\n",
    "#\n",
    "aux_stat.append(m4_y4_anova[0])\n",
    "aux_pval.append(m4_y4_anova[1])\n",
    "aux_yr.append(4)\n",
    "aux_mvar.append(equiv['m4'])\n",
    "aux_test.append('anova')"
   ]
  },
  {
   "cell_type": "code",
   "execution_count": 21,
   "metadata": {},
   "outputs": [],
   "source": [
    "m1_y5_anova = stats.f_oneway(*[y5[c].values for c in m1])\n",
    "m2_y5_anova = stats.f_oneway(*[y5[c].values for c in m2])\n",
    "m3_y5_anova = stats.f_oneway(*[y5[c].values for c in m3])\n",
    "m4_y5_anova = stats.f_oneway(*[y5[c].values for c in m4])"
   ]
  },
  {
   "cell_type": "code",
   "execution_count": 22,
   "metadata": {},
   "outputs": [
    {
     "data": {
      "text/plain": [
       "(F_onewayResult(statistic=0.6461251167133522, pvalue=0.7981476187084677),\n",
       " F_onewayResult(statistic=1.098591549295775, pvalue=0.3747586873699571),\n",
       " F_onewayResult(statistic=5.352573352573352, pvalue=7.878059524620763e-08),\n",
       " F_onewayResult(statistic=9.068783068783068, pvalue=1.589969802783145e-08))"
      ]
     },
     "execution_count": 22,
     "metadata": {},
     "output_type": "execute_result"
    }
   ],
   "source": [
    "m1_y5_anova, m2_y5_anova, m3_y5_anova, m4_y5_anova"
   ]
  },
  {
   "cell_type": "code",
   "execution_count": 23,
   "metadata": {},
   "outputs": [],
   "source": [
    "aux_stat.append(m1_y5_anova[0])\n",
    "aux_pval.append(m1_y5_anova[1])\n",
    "aux_yr.append(5)\n",
    "aux_mvar.append(equiv['m1'])\n",
    "aux_test.append('anova')\n",
    "#\n",
    "aux_stat.append(m2_y5_anova[0])\n",
    "aux_pval.append(m2_y5_anova[1])\n",
    "aux_yr.append(5)\n",
    "aux_mvar.append(equiv['m2'])\n",
    "aux_test.append('anova')\n",
    "#\n",
    "aux_stat.append(m3_y5_anova[0])\n",
    "aux_pval.append(m3_y5_anova[1])\n",
    "aux_yr.append(5)\n",
    "aux_mvar.append(equiv['m3'])\n",
    "aux_test.append('anova')\n",
    "#\n",
    "aux_stat.append(m4_y5_anova[0])\n",
    "aux_pval.append(m4_y5_anova[1])\n",
    "aux_yr.append(5)\n",
    "aux_mvar.append(equiv['m4'])\n",
    "aux_test.append('anova')"
   ]
  },
  {
   "cell_type": "markdown",
   "metadata": {},
   "source": [
    "The ANOVA tests gave the following result: only for year=5 the m1 and m2 groups showed a strong agreement in their distribution. For year=4 the m1 group has p-value=0.088 and for m2 a p-value=0.033\n",
    "\n",
    "For interpreting [p-value](https://www.statsdirect.com/help/basics/p_values.htm)"
   ]
  },
  {
   "cell_type": "markdown",
   "metadata": {},
   "source": [
    "## Kruskal-Wallis \n",
    "The Kruskal-Wallis H-test tests the null hypothesis that the population median of all of the groups are equal. It is a non-parametric version of ANOVA. The test works on 2 or more independent samples, which may have different sizes. Note that rejecting the null hypothesis does not indicate which of the groups differs. Post-hoc comparisons between groups are required to determine which groups are different.\n",
    "\n",
    "Needs at least 5 measurements"
   ]
  },
  {
   "cell_type": "markdown",
   "metadata": {},
   "source": [
    "All years together"
   ]
  },
  {
   "cell_type": "code",
   "execution_count": 24,
   "metadata": {},
   "outputs": [],
   "source": [
    "m1_kruskal = stats.kruskal(*[df_a[c].values for c in m1])\n",
    "m2_kruskal = stats.kruskal(*[df_a[c].values for c in m2])\n",
    "m3_kruskal = stats.kruskal(*[df_a[c].values for c in m3])\n",
    "m4_kruskal = stats.kruskal(*[df_a[c].values for c in m4])"
   ]
  },
  {
   "cell_type": "code",
   "execution_count": 25,
   "metadata": {},
   "outputs": [
    {
     "data": {
      "text/plain": [
       "(KruskalResult(statistic=110.73303519172596, pvalue=4.285157415484025e-18),\n",
       " KruskalResult(statistic=47.96554665944807, pvalue=1.2004952738838648e-08),\n",
       " KruskalResult(statistic=215.02674922301935, pvalue=4.6096578034756256e-38),\n",
       " KruskalResult(statistic=265.8552942223427, pvalue=7.460858917301393e-53))"
      ]
     },
     "execution_count": 25,
     "metadata": {},
     "output_type": "execute_result"
    }
   ],
   "source": [
    "m1_kruskal, m2_kruskal, m3_kruskal, m4_kruskal"
   ]
  },
  {
   "cell_type": "code",
   "execution_count": 26,
   "metadata": {},
   "outputs": [],
   "source": [
    "aux_stat.append(m1_kruskal[0])\n",
    "aux_pval.append(m1_kruskal[1])\n",
    "aux_yr.append(-1)\n",
    "aux_mvar.append(equiv['m1'])\n",
    "aux_test.append('kruskal-wallis')\n",
    "#\n",
    "aux_stat.append(m2_kruskal[0])\n",
    "aux_pval.append(m2_kruskal[1])\n",
    "aux_yr.append(-1)\n",
    "aux_mvar.append(equiv['m2'])\n",
    "aux_test.append('kruskal-wallis')\n",
    "#\n",
    "aux_stat.append(m3_kruskal[0])\n",
    "aux_pval.append(m3_kruskal[1])\n",
    "aux_yr.append(-1)\n",
    "aux_mvar.append(equiv['m3'])\n",
    "aux_test.append('kruskal-wallis')\n",
    "#\n",
    "aux_stat.append(m4_kruskal[0])\n",
    "aux_pval.append(m4_kruskal[1])\n",
    "aux_yr.append(-1)\n",
    "aux_mvar.append(equiv['m4'])\n",
    "aux_test.append('kruskal-wallis')"
   ]
  },
  {
   "cell_type": "code",
   "execution_count": 27,
   "metadata": {},
   "outputs": [],
   "source": [
    "m1_y1_kruskal = stats.kruskal(*[y1[c].values for c in m1])\n",
    "m2_y1_kruskal = stats.kruskal(*[y1[c].values for c in m2])\n",
    "m3_y1_kruskal = stats.kruskal(*[y1[c].values for c in m3])\n",
    "m4_y1_kruskal = stats.kruskal(*[y1[c].values for c in m4])"
   ]
  },
  {
   "cell_type": "code",
   "execution_count": 28,
   "metadata": {},
   "outputs": [
    {
     "data": {
      "text/plain": [
       "(KruskalResult(statistic=97.87660875582098, pvalue=1.449315081570707e-15),\n",
       " KruskalResult(statistic=41.57069043603203, pvalue=2.234870042092047e-07),\n",
       " KruskalResult(statistic=158.6596406844267, pvalue=1.31967895404267e-26),\n",
       " KruskalResult(statistic=198.61824595484154, pvalue=1.249097287835106e-38))"
      ]
     },
     "execution_count": 28,
     "metadata": {},
     "output_type": "execute_result"
    }
   ],
   "source": [
    "m1_y1_kruskal, m2_y1_kruskal, m3_y1_kruskal, m4_y1_kruskal"
   ]
  },
  {
   "cell_type": "code",
   "execution_count": 29,
   "metadata": {},
   "outputs": [],
   "source": [
    "aux_stat.append(m1_y1_kruskal[0])\n",
    "aux_pval.append(m1_y1_kruskal[1])\n",
    "aux_yr.append(1)\n",
    "aux_mvar.append(equiv['m1'])\n",
    "aux_test.append('kruskal-wallis')\n",
    "#\n",
    "aux_stat.append(m2_y1_kruskal[0])\n",
    "aux_pval.append(m2_y1_kruskal[1])\n",
    "aux_yr.append(1)\n",
    "aux_mvar.append(equiv['m2'])\n",
    "aux_test.append('kruskal-wallis')\n",
    "#\n",
    "aux_stat.append(m3_y1_kruskal[0])\n",
    "aux_pval.append(m3_y1_kruskal[1])\n",
    "aux_yr.append(1)\n",
    "aux_mvar.append(equiv['m3'])\n",
    "aux_test.append('kruskal-wallis')\n",
    "#\n",
    "aux_stat.append(m4_y1_kruskal[0])\n",
    "aux_pval.append(m4_y1_kruskal[1])\n",
    "aux_yr.append(1)\n",
    "aux_mvar.append(equiv['m4'])\n",
    "aux_test.append('kruskal-wallis')"
   ]
  },
  {
   "cell_type": "code",
   "execution_count": 30,
   "metadata": {},
   "outputs": [],
   "source": [
    "m1_y4_kruskal = stats.kruskal(*[y4[c].values for c in m1])\n",
    "m2_y4_kruskal = stats.kruskal(*[y4[c].values for c in m2])\n",
    "m3_y4_kruskal = stats.kruskal(*[y4[c].values for c in m3])\n",
    "m4_y4_kruskal = stats.kruskal(*[y4[c].values for c in m4])"
   ]
  },
  {
   "cell_type": "code",
   "execution_count": 31,
   "metadata": {},
   "outputs": [
    {
     "data": {
      "text/plain": [
       "(KruskalResult(statistic=19.911659255307004, pvalue=0.06877563501761486),\n",
       " KruskalResult(statistic=12.387031690359201, pvalue=0.05387103232203867),\n",
       " KruskalResult(statistic=52.77164973975627, pvalue=2.0803798460973948e-06),\n",
       " KruskalResult(statistic=40.20061797334527, pvalue=2.9394785372092874e-06))"
      ]
     },
     "execution_count": 31,
     "metadata": {},
     "output_type": "execute_result"
    }
   ],
   "source": [
    "m1_y4_kruskal, m2_y4_kruskal, m3_y4_kruskal, m4_y4_kruskal"
   ]
  },
  {
   "cell_type": "code",
   "execution_count": 32,
   "metadata": {},
   "outputs": [],
   "source": [
    "aux_stat.append(m1_y4_kruskal[0])\n",
    "aux_pval.append(m1_y4_kruskal[1])\n",
    "aux_yr.append(4)\n",
    "aux_mvar.append(equiv['m1'])\n",
    "aux_test.append('kruskal-wallis')\n",
    "#\n",
    "aux_stat.append(m2_y4_kruskal[0])\n",
    "aux_pval.append(m2_y4_kruskal[1])\n",
    "aux_yr.append(4)\n",
    "aux_mvar.append(equiv['m2'])\n",
    "aux_test.append('kruskal-wallis')\n",
    "#\n",
    "aux_stat.append(m3_y4_kruskal[0])\n",
    "aux_pval.append(m3_y4_kruskal[1])\n",
    "aux_yr.append(4)\n",
    "aux_mvar.append(equiv['m3'])\n",
    "aux_test.append('kruskal-wallis')\n",
    "#\n",
    "aux_stat.append(m4_y4_kruskal[0])\n",
    "aux_pval.append(m4_y4_kruskal[1])\n",
    "aux_yr.append(4)\n",
    "aux_mvar.append(equiv['m4'])\n",
    "aux_test.append('kruskal-wallis')"
   ]
  },
  {
   "cell_type": "code",
   "execution_count": 33,
   "metadata": {},
   "outputs": [],
   "source": [
    "m1_y5_kruskal = stats.kruskal(*[y5[c].values for c in m1])\n",
    "m2_y5_kruskal = stats.kruskal(*[y5[c].values for c in m2])\n",
    "m3_y5_kruskal = stats.kruskal(*[y5[c].values for c in m3])\n",
    "m4_y5_kruskal = stats.kruskal(*[y5[c].values for c in m4])"
   ]
  },
  {
   "cell_type": "code",
   "execution_count": 34,
   "metadata": {},
   "outputs": [
    {
     "data": {
      "text/plain": [
       "(KruskalResult(statistic=7.382851638908156, pvalue=0.831311430286555),\n",
       " KruskalResult(statistic=4.854319646461605, pvalue=0.5626290984113294),\n",
       " KruskalResult(statistic=34.44947116745623, pvalue=0.0017721891775393424),\n",
       " KruskalResult(statistic=34.05309192775126, pvalue=3.973646831266904e-05))"
      ]
     },
     "execution_count": 34,
     "metadata": {},
     "output_type": "execute_result"
    }
   ],
   "source": [
    "m1_y5_kruskal, m2_y5_kruskal, m3_y5_kruskal, m4_y5_kruskal"
   ]
  },
  {
   "cell_type": "code",
   "execution_count": 35,
   "metadata": {},
   "outputs": [],
   "source": [
    "aux_stat.append(m1_y5_kruskal[0])\n",
    "aux_pval.append(m1_y5_kruskal[1])\n",
    "aux_yr.append(5)\n",
    "aux_mvar.append(equiv['m1'])\n",
    "aux_test.append('kruskal-wallis')\n",
    "#\n",
    "aux_stat.append(m2_y5_kruskal[0])\n",
    "aux_pval.append(m2_y5_kruskal[1])\n",
    "aux_yr.append(5)\n",
    "aux_mvar.append(equiv['m2'])\n",
    "aux_test.append('kruskal-wallis')\n",
    "#\n",
    "aux_stat.append(m3_y5_kruskal[0])\n",
    "aux_pval.append(m3_y5_kruskal[1])\n",
    "aux_yr.append(5)\n",
    "aux_mvar.append(equiv['m3'])\n",
    "aux_test.append('kruskal-wallis')\n",
    "#\n",
    "aux_stat.append(m4_y5_kruskal[0])\n",
    "aux_pval.append(m4_y5_kruskal[1])\n",
    "aux_yr.append(5)\n",
    "aux_mvar.append(equiv['m4'])\n",
    "aux_test.append('kruskal-wallis')"
   ]
  },
  {
   "cell_type": "markdown",
   "metadata": {},
   "source": [
    "For the Kruskal-Wallis (median test) the sample of year=5 has a strong support for H0, for m1 and m2. For m3 the p-value=0.0018. For year=4 m1 has p-value=0.0688 and m2 has p-value=0.0539"
   ]
  },
  {
   "cell_type": "markdown",
   "metadata": {},
   "source": [
    "### Save into pandas to be exported"
   ]
  },
  {
   "cell_type": "code",
   "execution_count": 36,
   "metadata": {},
   "outputs": [],
   "source": [
    "d = {\n",
    "    'estadistica': aux_stat,\n",
    "    'valor_p': aux_pval,\n",
    "    'curso': aux_yr,\n",
    "    'macro_variable': aux_mvar,\n",
    "    'test': aux_test,\n",
    "}\n",
    "df_anova_kruskal = pd.DataFrame(d)"
   ]
  },
  {
   "cell_type": "code",
   "execution_count": 37,
   "metadata": {},
   "outputs": [
    {
     "data": {
      "text/html": [
       "<div>\n",
       "<style scoped>\n",
       "    .dataframe tbody tr th:only-of-type {\n",
       "        vertical-align: middle;\n",
       "    }\n",
       "\n",
       "    .dataframe tbody tr th {\n",
       "        vertical-align: top;\n",
       "    }\n",
       "\n",
       "    .dataframe thead th {\n",
       "        text-align: right;\n",
       "    }\n",
       "</style>\n",
       "<table border=\"1\" class=\"dataframe\">\n",
       "  <thead>\n",
       "    <tr style=\"text-align: right;\">\n",
       "      <th></th>\n",
       "      <th>estadistica</th>\n",
       "      <th>valor_p</th>\n",
       "      <th>curso</th>\n",
       "      <th>macro_variable</th>\n",
       "      <th>test</th>\n",
       "    </tr>\n",
       "  </thead>\n",
       "  <tbody>\n",
       "    <tr>\n",
       "      <th>0</th>\n",
       "      <td>10.339786</td>\n",
       "      <td>1.421859e-19</td>\n",
       "      <td>-1</td>\n",
       "      <td>Confianza</td>\n",
       "      <td>anova</td>\n",
       "    </tr>\n",
       "    <tr>\n",
       "      <th>1</th>\n",
       "      <td>11.633918</td>\n",
       "      <td>2.382870e-12</td>\n",
       "      <td>-1</td>\n",
       "      <td>Adaptacion</td>\n",
       "      <td>anova</td>\n",
       "    </tr>\n",
       "    <tr>\n",
       "      <th>2</th>\n",
       "      <td>28.456436</td>\n",
       "      <td>7.494340e-66</td>\n",
       "      <td>-1</td>\n",
       "      <td>Compromiso</td>\n",
       "      <td>anova</td>\n",
       "    </tr>\n",
       "    <tr>\n",
       "      <th>3</th>\n",
       "      <td>62.272700</td>\n",
       "      <td>1.810023e-78</td>\n",
       "      <td>-1</td>\n",
       "      <td>Conciencia Social</td>\n",
       "      <td>anova</td>\n",
       "    </tr>\n",
       "    <tr>\n",
       "      <th>4</th>\n",
       "      <td>9.482738</td>\n",
       "      <td>1.892062e-17</td>\n",
       "      <td>1</td>\n",
       "      <td>Confianza</td>\n",
       "      <td>anova</td>\n",
       "    </tr>\n",
       "  </tbody>\n",
       "</table>\n",
       "</div>"
      ],
      "text/plain": [
       "   estadistica       valor_p  curso     macro_variable   test\n",
       "0    10.339786  1.421859e-19     -1          Confianza  anova\n",
       "1    11.633918  2.382870e-12     -1         Adaptacion  anova\n",
       "2    28.456436  7.494340e-66     -1         Compromiso  anova\n",
       "3    62.272700  1.810023e-78     -1  Conciencia Social  anova\n",
       "4     9.482738  1.892062e-17      1          Confianza  anova"
      ]
     },
     "execution_count": 37,
     "metadata": {},
     "output_type": "execute_result"
    }
   ],
   "source": [
    "df_anova_kruskal.head()"
   ]
  },
  {
   "cell_type": "code",
   "execution_count": 38,
   "metadata": {},
   "outputs": [],
   "source": [
    "df_anova_kruskal.to_csv('Test_ANOVA_KruskalWallis_Alumnos.csv', header=True, index=False)"
   ]
  },
  {
   "cell_type": "markdown",
   "metadata": {},
   "source": [
    "## Correlation inside the macro-variables\n",
    "The idea is to compare the correlation of some variables through time. In the other hand, to see how the correlation works inside some macro-variables, for a fixed period of time.\n",
    "https://www.datascience.com/blog/introduction-to-correlation-learn-data-science-tutorials"
   ]
  },
  {
   "cell_type": "code",
   "execution_count": 41,
   "metadata": {},
   "outputs": [],
   "source": [
    "def plot_corr_matrix(df, title, outname):\n",
    "    fig, ax = plt.subplots(figsize=(5, 5))\n",
    "    im = ax.imshow(df.corr(method='spearman'), \n",
    "                   interpolation=\"nearest\", cmap='bwr_r', vmin=-1, vmax=1)\n",
    "    \n",
    "    divider = make_axes_locatable(ax)\n",
    "    cax = divider.append_axes(\"right\", size=\"5%\", pad=0.05)\n",
    "    fig.colorbar(im, cax=cax)\n",
    "    \n",
    "    ax.set_title(title, color='dodgerblue')\n",
    "    \n",
    "    ax.set_xticklabels(df.columns)\n",
    "    ax.set_yticklabels(df.columns)\n",
    "    ticks = np.arange(0,len(df.columns),1)\n",
    "    ax.set_xticks(ticks)\n",
    "    ax.xaxis.set_tick_params(rotation=90)\n",
    "    # plt.xticks(rotation=90)\n",
    "    ax.set_yticks(ticks)\n",
    "    \n",
    "    plt.tight_layout()\n",
    "    \n",
    "    plt.savefig(outname, dpi=300, format='png')"
   ]
  },
  {
   "cell_type": "markdown",
   "metadata": {},
   "source": [
    "Correlation inside a macro-variable for all the years together"
   ]
  },
  {
   "cell_type": "code",
   "execution_count": 42,
   "metadata": {},
   "outputs": [
    {
     "data": {
      "image/png": "[encoded data removed]",
      "text/plain": [
       "<Figure size 360x360 with 2 Axes>"
      ]
     },
     "metadata": {
      "needs_background": "light"
     },
     "output_type": "display_data"
    },
    {
     "data": {
      "image/png": "[encoded data removed]",
      "text/plain": [
       "<Figure size 360x360 with 2 Axes>"
      ]
     },
     "metadata": {
      "needs_background": "light"
     },
     "output_type": "display_data"
    },
    {
     "data": {
      "image/png": "[encoded data removed]",
      "text/plain": [
       "<Figure size 360x360 with 2 Axes>"
      ]
     },
     "metadata": {
      "needs_background": "light"
     },
     "output_type": "display_data"
    },
    {
     "data": {
      "image/png": "[encoded data removed]",
      "text/plain": [
       "<Figure size 360x360 with 2 Axes>"
      ]
     },
     "metadata": {
      "needs_background": "light"
     },
     "output_type": "display_data"
    }
   ],
   "source": [
    "plot_corr_matrix(df_a[m1], \n",
    "                 'Correlacion en {0}, curso=todos'.format(equiv['m1']), \n",
    "                 'matriz_corr_{0}_cursoTodos.png'.format(equiv['m1']),)\n",
    "plot_corr_matrix(df_a[m2], \n",
    "                 'Correlacion en {0}, curso=todos'.format(equiv['m2']), \n",
    "                 'matriz_corr_{0}_cursoTodos.png'.format(equiv['m2']),)\n",
    "plot_corr_matrix(df_a[m3], \n",
    "                 'Correlacion en {0}, curso=todos'.format(equiv['m3']), \n",
    "                 'matriz_corr_{0}_cursoTodos.png'.format(equiv['m3']),)\n",
    "plot_corr_matrix(df_a[m4], \n",
    "                 'Correlacion en {0}, curso=todos'.format(equiv['m4']), \n",
    "                 'matriz_corr_{0}_cursoTodos.png'.format(equiv['m4']),)"
   ]
  },
  {
   "cell_type": "markdown",
   "metadata": {},
   "source": [
    "Correlation for macro-variable 1, for the different years\n"
   ]
  },
  {
   "cell_type": "code",
   "execution_count": 43,
   "metadata": {},
   "outputs": [
    {
     "data": {
      "image/png": "[encoded data removed]",
      "text/plain": [
       "<Figure size 360x360 with 2 Axes>"
      ]
     },
     "metadata": {
      "needs_background": "light"
     },
     "output_type": "display_data"
    },
    {
     "data": {
      "image/png": "[encoded data removed]",
      "text/plain": [
       "<Figure size 360x360 with 2 Axes>"
      ]
     },
     "metadata": {
      "needs_background": "light"
     },
     "output_type": "display_data"
    },
    {
     "data": {
      "image/png": "[encoded data removed]",
      "text/plain": [
       "<Figure size 360x360 with 2 Axes>"
      ]
     },
     "metadata": {
      "needs_background": "light"
     },
     "output_type": "display_data"
    }
   ],
   "source": [
    "plot_corr_matrix(y1[m1], \n",
    "                 'Correlacion en {0}, curso=1'.format(equiv['m1']), \n",
    "                 'matriz_corr_{0}_curso1.png'.format(equiv['m1']),)\n",
    "plot_corr_matrix(y4[m1], \n",
    "                 'Correlacion en {0}, curso=4'.format(equiv['m1']), \n",
    "                 'matriz_corr_{0}_curso4.png'.format(equiv['m1']),)\n",
    "plot_corr_matrix(y5[m1], \n",
    "                 'Correlacion en {0}, curso=5'.format(equiv['m1']), \n",
    "                 'matriz_corr_{0}_curso5.png'.format(equiv['m1']),)"
   ]
  },
  {
   "cell_type": "markdown",
   "metadata": {},
   "source": [
    "Correlation for macro-variable 2, for the different years"
   ]
  },
  {
   "cell_type": "code",
   "execution_count": 44,
   "metadata": {},
   "outputs": [
    {
     "data": {
      "image/png": "[encoded data removed]",
      "text/plain": [
       "<Figure size 360x360 with 2 Axes>"
      ]
     },
     "metadata": {
      "needs_background": "light"
     },
     "output_type": "display_data"
    },
    {
     "data": {
      "image/png": "[encoded data removed]",
      "text/plain": [
       "<Figure size 360x360 with 2 Axes>"
      ]
     },
     "metadata": {
      "needs_background": "light"
     },
     "output_type": "display_data"
    },
    {
     "data": {
      "image/png": "[encoded data removed]",
      "text/plain": [
       "<Figure size 360x360 with 2 Axes>"
      ]
     },
     "metadata": {
      "needs_background": "light"
     },
     "output_type": "display_data"
    }
   ],
   "source": [
    "plot_corr_matrix(y1[m2], \n",
    "                 'Correlacion en {0}, curso=1'.format(equiv['m2']), \n",
    "                 'matriz_corr_{0}_curso1.png'.format(equiv['m2']),)\n",
    "plot_corr_matrix(y4[m2], \n",
    "                 'Correlacion en {0}, curso=4'.format(equiv['m2']), \n",
    "                 'matriz_corr_{0}_curso4.png'.format(equiv['m2']),)\n",
    "plot_corr_matrix(y5[m2], \n",
    "                 'Correlacion en {0}, curso=5'.format(equiv['m2']), \n",
    "                 'matriz_corr_{0}_curso5.png'.format(equiv['m2']),)"
   ]
  },
  {
   "cell_type": "markdown",
   "metadata": {},
   "source": [
    "Correlation for macro-variable 3, for the different years"
   ]
  },
  {
   "cell_type": "code",
   "execution_count": 45,
   "metadata": {},
   "outputs": [
    {
     "data": {
      "image/png": "[encoded data removed]",
      "text/plain": [
       "<Figure size 360x360 with 2 Axes>"
      ]
     },
     "metadata": {
      "needs_background": "light"
     },
     "output_type": "display_data"
    },
    {
     "data": {
      "image/png": "[encoded data removed]",
      "text/plain": [
       "<Figure size 360x360 with 2 Axes>"
      ]
     },
     "metadata": {
      "needs_background": "light"
     },
     "output_type": "display_data"
    },
    {
     "data": {
      "image/png": "[encoded data removed]",
      "text/plain": [
       "<Figure size 360x360 with 2 Axes>"
      ]
     },
     "metadata": {
      "needs_background": "light"
     },
     "output_type": "display_data"
    }
   ],
   "source": [
    "plot_corr_matrix(y1[m3], \n",
    "                 'Correlacion en {0}, curso=1'.format(equiv['m3']), \n",
    "                 'matriz_corr_{0}_curso1.png'.format(equiv['m3']),)\n",
    "plot_corr_matrix(y4[m3], \n",
    "                 'Correlacion en {0}, curso=4'.format(equiv['m3']), \n",
    "                 'matriz_corr_{0}_curso4.png'.format(equiv['m3']),)\n",
    "plot_corr_matrix(y5[m3], \n",
    "                 'Correlacion en {0}, curso=5'.format(equiv['m3']), \n",
    "                 'matriz_corr_{0}_curso5.png'.format(equiv['m3']),)"
   ]
  },
  {
   "cell_type": "markdown",
   "metadata": {},
   "source": [
    "Correlation for macro-variable 4, for the different years"
   ]
  },
  {
   "cell_type": "code",
   "execution_count": 46,
   "metadata": {},
   "outputs": [
    {
     "data": {
      "image/png": "[encoded data removed]",
      "text/plain": [
       "<Figure size 360x360 with 2 Axes>"
      ]
     },
     "metadata": {
      "needs_background": "light"
     },
     "output_type": "display_data"
    },
    {
     "data": {
      "image/png": "[encoded data removed]",
      "text/plain": [
       "<Figure size 360x360 with 2 Axes>"
      ]
     },
     "metadata": {
      "needs_background": "light"
     },
     "output_type": "display_data"
    },
    {
     "data": {
      "image/png": "[encoded data removed]",
      "text/plain": [
       "<Figure size 360x360 with 2 Axes>"
      ]
     },
     "metadata": {
      "needs_background": "light"
     },
     "output_type": "display_data"
    }
   ],
   "source": [
    "plot_corr_matrix(y1[m4], \n",
    "                 'Correlacion en {0}, curso=1'.format(equiv['m4']), \n",
    "                 'matriz_corr_{0}_curso1.png'.format(equiv['m4']),)\n",
    "plot_corr_matrix(y4[m4], \n",
    "                 'Correlacion en {0}, curso=4'.format(equiv['m4']), \n",
    "                 'matriz_corr_{0}_curso4.png'.format(equiv['m4']),)\n",
    "plot_corr_matrix(y5[m4], \n",
    "                 'Correlacion en {0}, curso=5'.format(equiv['m4']), \n",
    "                 'matriz_corr_{0}_curso5.png'.format(equiv['m4']),)"
   ]
  },
  {
   "cell_type": "markdown",
   "metadata": {},
   "source": [
    "## Subset of variables\n",
    "\n",
    "### Comments:\n",
    "Should be related: \"compromiso\" and \"conciencia social\". Also \"confianza\" and \"adaptacion\"\n",
    "\n",
    "Should evolve over time: \"confianza\", \"adaptacion\" and \"conciencia social\"\n",
    "\n",
    "Subset:\n",
    "* Confianza (m1): v14, v17\n",
    "* Adpatacion (m2): v10, v23\n",
    "* Compromiso (m3): v05, v12\n",
    "* Conciencia (m4): v11, v19\n",
    "\n",
    "Confianza (m1) / Adaptacion (m2) / Compromiso (m3) / Conciencia social (m4)\n"
   ]
  },
  {
   "cell_type": "markdown",
   "metadata": {},
   "source": [
    "**To do:**\n",
    "\n",
    "1) histograms -- not\n",
    "\n",
    "2) Anderson-Darling\n",
    "\n",
    "3) 2D histograms / clustering\n",
    "\n",
    "4) time-evolution -- not"
   ]
  },
  {
   "cell_type": "markdown",
   "metadata": {},
   "source": [
    "## Anderson-Darling test for some variables"
   ]
  },
  {
   "cell_type": "markdown",
   "metadata": {},
   "source": [
    "Analysis of the pairs\n",
    "\n",
    "Output: A2, critical (25%, 10%, 5%, 2.5%, 1%), p-value"
   ]
  },
  {
   "cell_type": "code",
   "execution_count": 66,
   "metadata": {},
   "outputs": [
    {
     "name": "stderr",
     "output_type": "stream",
     "text": [
      "/Users/fco/anaconda3/lib/python3.6/site-packages/scipy/stats/morestats.py:1680: UserWarning: approximate p-value will be computed by extrapolation\n",
      "  warnings.warn(\"approximate p-value will be computed by extrapolation\")\n",
      "/Users/fco/anaconda3/lib/python3.6/site-packages/scipy/stats/morestats.py:1680: UserWarning: approximate p-value will be computed by extrapolation\n",
      "  warnings.warn(\"approximate p-value will be computed by extrapolation\")\n",
      "/Users/fco/anaconda3/lib/python3.6/site-packages/scipy/stats/morestats.py:1680: UserWarning: approximate p-value will be computed by extrapolation\n",
      "  warnings.warn(\"approximate p-value will be computed by extrapolation\")\n"
     ]
    }
   ],
   "source": [
    "sub_m1_all = stats.anderson_ksamp([df_a[c].values for c in ['v14', 'v17']])\n",
    "sub_m1_y1 = stats.anderson_ksamp([y1[c].values for c in ['v14', 'v17']])\n",
    "sub_m1_y4 = stats.anderson_ksamp([y4[c].values for c in ['v14', 'v17']])\n",
    "sub_m1_y5 = stats.anderson_ksamp([y5[c].values for c in ['v14', 'v17']])"
   ]
  },
  {
   "cell_type": "code",
   "execution_count": 70,
   "metadata": {},
   "outputs": [
    {
     "data": {
      "text/plain": [
       "(Anderson_ksampResult(statistic=9.039859600454465, critical_values=array([0.325, 1.226, 1.961, 2.718, 3.752]), significance_level=0.0002267398939273295),\n",
       " Anderson_ksampResult(statistic=8.304505517290139, critical_values=array([0.325, 1.226, 1.961, 2.718, 3.752]), significance_level=0.00035287928988190625),\n",
       " Anderson_ksampResult(statistic=0.19348206620665165, critical_values=array([0.325, 1.226, 1.961, 2.718, 3.752]), significance_level=0.28493323108432483),\n",
       " Anderson_ksampResult(statistic=0.47642774746087674, critical_values=array([0.325, 1.226, 1.961, 2.718, 3.752]), significance_level=0.21330381021709174))"
      ]
     },
     "execution_count": 70,
     "metadata": {},
     "output_type": "execute_result"
    }
   ],
   "source": [
    "sub_m1_all, sub_m1_y1, sub_m1_y4, sub_m1_y5"
   ]
  },
  {
   "cell_type": "code",
   "execution_count": 67,
   "metadata": {},
   "outputs": [
    {
     "name": "stderr",
     "output_type": "stream",
     "text": [
      "/Users/fco/anaconda3/lib/python3.6/site-packages/scipy/stats/morestats.py:1680: UserWarning: approximate p-value will be computed by extrapolation\n",
      "  warnings.warn(\"approximate p-value will be computed by extrapolation\")\n",
      "/Users/fco/anaconda3/lib/python3.6/site-packages/scipy/stats/morestats.py:1680: UserWarning: approximate p-value will be computed by extrapolation\n",
      "  warnings.warn(\"approximate p-value will be computed by extrapolation\")\n",
      "/Users/fco/anaconda3/lib/python3.6/site-packages/scipy/stats/morestats.py:1680: UserWarning: approximate p-value will be computed by extrapolation\n",
      "  warnings.warn(\"approximate p-value will be computed by extrapolation\")\n",
      "/Users/fco/anaconda3/lib/python3.6/site-packages/scipy/stats/morestats.py:1680: UserWarning: approximate p-value will be computed by extrapolation\n",
      "  warnings.warn(\"approximate p-value will be computed by extrapolation\")\n"
     ]
    }
   ],
   "source": [
    "sub_m2_all = stats.anderson_ksamp([df_a[c].values for c in ['v10', 'v23']])\n",
    "sub_m2_y1 = stats.anderson_ksamp([y1[c].values for c in ['v10', 'v23']])\n",
    "sub_m2_y4 = stats.anderson_ksamp([y4[c].values for c in ['v10', 'v23']])\n",
    "sub_m2_y5 = stats.anderson_ksamp([y5[c].values for c in ['v10', 'v23']])"
   ]
  },
  {
   "cell_type": "code",
   "execution_count": 71,
   "metadata": {},
   "outputs": [
    {
     "data": {
      "text/plain": [
       "(Anderson_ksampResult(statistic=-1.3021604854987816, critical_values=array([0.325, 1.226, 1.961, 2.718, 3.752]), significance_level=1.4081472631912921),\n",
       " Anderson_ksampResult(statistic=-1.001545259118286, critical_values=array([0.325, 1.226, 1.961, 2.718, 3.752]), significance_level=1.01211717108906),\n",
       " Anderson_ksampResult(statistic=-0.5918120416778623, critical_values=array([0.325, 1.226, 1.961, 2.718, 3.752]), significance_level=0.6500593281369127),\n",
       " Anderson_ksampResult(statistic=-1.4503021135941399, critical_values=array([0.325, 1.226, 1.961, 2.718, 3.752]), significance_level=1.6597920949586282))"
      ]
     },
     "execution_count": 71,
     "metadata": {},
     "output_type": "execute_result"
    }
   ],
   "source": [
    "sub_m2_all, sub_m2_y1, sub_m2_y4, sub_m2_y5"
   ]
  },
  {
   "cell_type": "code",
   "execution_count": 68,
   "metadata": {},
   "outputs": [
    {
     "name": "stderr",
     "output_type": "stream",
     "text": [
      "/Users/fco/anaconda3/lib/python3.6/site-packages/scipy/stats/morestats.py:1680: UserWarning: approximate p-value will be computed by extrapolation\n",
      "  warnings.warn(\"approximate p-value will be computed by extrapolation\")\n",
      "/Users/fco/anaconda3/lib/python3.6/site-packages/scipy/stats/morestats.py:1680: UserWarning: approximate p-value will be computed by extrapolation\n",
      "  warnings.warn(\"approximate p-value will be computed by extrapolation\")\n",
      "/Users/fco/anaconda3/lib/python3.6/site-packages/scipy/stats/morestats.py:1680: UserWarning: approximate p-value will be computed by extrapolation\n",
      "  warnings.warn(\"approximate p-value will be computed by extrapolation\")\n",
      "/Users/fco/anaconda3/lib/python3.6/site-packages/scipy/stats/morestats.py:1680: UserWarning: approximate p-value will be computed by extrapolation\n",
      "  warnings.warn(\"approximate p-value will be computed by extrapolation\")\n"
     ]
    }
   ],
   "source": [
    "sub_m3_all = stats.anderson_ksamp([df_a[c].values for c in ['v05', 'v12']])\n",
    "sub_m3_y1 = stats.anderson_ksamp([y1[c].values for c in ['v05', 'v12']])\n",
    "sub_m3_y4 = stats.anderson_ksamp([y4[c].values for c in ['v05', 'v12']])\n",
    "sub_m3_y5 = stats.anderson_ksamp([y5[c].values for c in ['v05', 'v12']])"
   ]
  },
  {
   "cell_type": "code",
   "execution_count": 72,
   "metadata": {},
   "outputs": [
    {
     "data": {
      "text/plain": [
       "(Anderson_ksampResult(statistic=6.641272450680098, critical_values=array([0.325, 1.226, 1.961, 2.718, 3.752]), significance_level=0.0010615553279565788),\n",
       " Anderson_ksampResult(statistic=6.451119968225284, critical_values=array([0.325, 1.226, 1.961, 2.718, 3.752]), significance_level=0.0012147831526559973),\n",
       " Anderson_ksampResult(statistic=-0.8305514073324832, critical_values=array([0.325, 1.226, 1.961, 2.718, 3.752]), significance_level=0.840502645722428),\n",
       " Anderson_ksampResult(statistic=4.028616982205944, critical_values=array([0.325, 1.226, 1.961, 2.718, 3.752]), significance_level=0.007943678016152877))"
      ]
     },
     "execution_count": 72,
     "metadata": {},
     "output_type": "execute_result"
    }
   ],
   "source": [
    "sub_m3_all, sub_m3_y1, sub_m3_y4, sub_m3_y5"
   ]
  },
  {
   "cell_type": "code",
   "execution_count": 69,
   "metadata": {},
   "outputs": [
    {
     "name": "stderr",
     "output_type": "stream",
     "text": [
      "/Users/fco/anaconda3/lib/python3.6/site-packages/scipy/stats/morestats.py:1680: UserWarning: approximate p-value will be computed by extrapolation\n",
      "  warnings.warn(\"approximate p-value will be computed by extrapolation\")\n",
      "/Users/fco/anaconda3/lib/python3.6/site-packages/scipy/stats/morestats.py:1680: UserWarning: approximate p-value will be computed by extrapolation\n",
      "  warnings.warn(\"approximate p-value will be computed by extrapolation\")\n",
      "/Users/fco/anaconda3/lib/python3.6/site-packages/scipy/stats/morestats.py:1680: UserWarning: approximate p-value will be computed by extrapolation\n",
      "  warnings.warn(\"approximate p-value will be computed by extrapolation\")\n"
     ]
    }
   ],
   "source": [
    "sub_m4_all = stats.anderson_ksamp([df_a[c].values for c in ['v11', 'v19']])\n",
    "sub_m4_y1 = stats.anderson_ksamp([y1[c].values for c in ['v11', 'v19']])\n",
    "sub_m4_y4 = stats.anderson_ksamp([y4[c].values for c in ['v11', 'v19']])\n",
    "sub_m4_y5 = stats.anderson_ksamp([y5[c].values for c in ['v11', 'v19']])"
   ]
  },
  {
   "cell_type": "code",
   "execution_count": 73,
   "metadata": {},
   "outputs": [
    {
     "data": {
      "text/plain": [
       "(Anderson_ksampResult(statistic=9.48311365150393, critical_values=array([0.325, 1.226, 1.961, 2.718, 3.752]), significance_level=0.00017598466484337912),\n",
       " Anderson_ksampResult(statistic=7.411466113125806, critical_values=array([0.325, 1.226, 1.961, 2.718, 3.752]), significance_level=0.0006264587155071203),\n",
       " Anderson_ksampResult(statistic=0.8267064468135105, critical_values=array([0.325, 1.226, 1.961, 2.718, 3.752]), significance_level=0.1498881115427157),\n",
       " Anderson_ksampResult(statistic=-1.0241639616985778, critical_values=array([0.325, 1.226, 1.961, 2.718, 3.752]), significance_level=1.0374152536513899))"
      ]
     },
     "execution_count": 73,
     "metadata": {},
     "output_type": "execute_result"
    }
   ],
   "source": [
    "sub_m4_all, sub_m4_y1, sub_m4_y4, sub_m4_y5"
   ]
  },
  {
   "cell_type": "markdown",
   "metadata": {},
   "source": [
    "## 2D histograms between the variables showing higher AD test"
   ]
  },
  {
   "cell_type": "code",
   "execution_count": 79,
   "metadata": {},
   "outputs": [
    {
     "data": {
      "text/plain": [
       "(array([[1., 0., 0., 0., 0., 3., 0., 0., 0., 2.],\n",
       "        [0., 0., 0., 0., 0., 0., 0., 0., 0., 0.],\n",
       "        [0., 0., 0., 0., 0., 0., 0., 0., 0., 0.],\n",
       "        [0., 0., 0., 0., 0., 0., 0., 0., 0., 0.],\n",
       "        [0., 0., 0., 0., 0., 0., 0., 0., 0., 0.],\n",
       "        [0., 0., 0., 0., 0., 0., 0., 0., 0., 0.],\n",
       "        [0., 0., 0., 0., 0., 0., 0., 0., 0., 0.],\n",
       "        [0., 0., 0., 0., 0., 0., 0., 0., 0., 0.],\n",
       "        [0., 0., 0., 0., 0., 0., 0., 0., 0., 0.],\n",
       "        [0., 0., 0., 0., 0., 0., 0., 0., 0., 3.]]),\n",
       " array([4. , 4.1, 4.2, 4.3, 4.4, 4.5, 4.6, 4.7, 4.8, 4.9, 5. ]),\n",
       " array([3. , 3.2, 3.4, 3.6, 3.8, 4. , 4.2, 4.4, 4.6, 4.8, 5. ]),\n",
       " <matplotlib.image.AxesImage at 0x1a25192f60>)"
      ]
     },
     "execution_count": 79,
     "metadata": {},
     "output_type": "execute_result"
    },
    {
     "data": {
      "image/png": "[encoded data removed]",
      "text/plain": [
       "<Figure size 432x288 with 1 Axes>"
      ]
     },
     "metadata": {
      "needs_background": "light"
     },
     "output_type": "display_data"
    }
   ],
   "source": [
    "fig, ax = plt.subplots()\n",
    "ax.hist2d(y5['v14'], y5['v19'])"
   ]
  },
  {
   "cell_type": "code",
   "execution_count": null,
   "metadata": {},
   "outputs": [],
   "source": []
  }
 ],
 "metadata": {
  "kernelspec": {
   "display_name": "Python 3",
   "language": "python",
   "name": "python3"
  },
  "language_info": {
   "codemirror_mode": {
    "name": "ipython",
    "version": 3
   },
   "file_extension": ".py",
   "mimetype": "text/x-python",
   "name": "python",
   "nbconvert_exporter": "python",
   "pygments_lexer": "ipython3",
   "version": "3.6.3"
  }
 },
 "nbformat": 4,
 "nbformat_minor": 2
}
